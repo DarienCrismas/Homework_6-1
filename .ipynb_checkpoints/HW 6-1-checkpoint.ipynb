{
 "cells": [
  {
   "cell_type": "markdown",
   "id": "6a0fddeb",
   "metadata": {},
   "source": [
    "# 1) Create a Module in VS Code and Import It into jupyter notebook <br>\n",
    "<p><b>Module should have the following capabilities:</b><br><br>\n",
    "1a) Has a function to calculate the square footage of a house <br>\n",
    "    <b>Reminder of Formula: Length X Width == Area</b><br>\n",
    "        <hr>\n",
    "1b) Has a function to calculate the circumference of a circle 2 Pi r <br><br>\n",
    "<b>Program in Jupyter Notebook should take in user input and use imported functions to calculate a circle's circumference or a houses square footage</b>\n",
    "</p>"
   ]
  },
  {
   "cell_type": "code",
   "execution_count": 6,
   "id": "13952137",
   "metadata": {},
   "outputs": [
    {
     "data": {
      "text/plain": [
       "1075"
      ]
     },
     "execution_count": 6,
     "metadata": {},
     "output_type": "execute_result"
    }
   ],
   "source": [
    "import homework_module\n",
    "length = int(input(\"Length please! \"))\n",
    "width = int(input(\"And now width. \"))\n",
    "homework_module.square_footage(length,width)"
   ]
  },
  {
   "cell_type": "code",
   "execution_count": 7,
   "id": "73abd0f3",
   "metadata": {},
   "outputs": [
    {
     "data": {
      "text/plain": [
       "339.12"
      ]
     },
     "execution_count": 7,
     "metadata": {},
     "output_type": "execute_result"
    }
   ],
   "source": [
    "radius = int(input(\"May I have the radius of your circle? \"))\n",
    "homework_module.circumference_time(radius)"
   ]
  },
  {
   "cell_type": "markdown",
   "id": "04e4d1f6",
   "metadata": {},
   "source": [
    "### 2) Build a Shopping Cart <br>\n",
    "<p><b>You can use either lists or dictionaries. The program should have the following capabilities:</b><br><br>\n",
    "1) Takes in input <br>\n",
    "2) Stores user input into a dictionary or list <br>\n",
    "3) The User can add or delete items <br>\n",
    "4) The User can see current shopping list <br>\n",
    "5) The program Loops until user 'quits' <br>\n",
    "6) Upon quiting the program, print out all items in the user's list <br>\n",
    "</p>"
   ]
  },
  {
   "cell_type": "code",
   "execution_count": null,
   "id": "5a3173bb",
   "metadata": {},
   "outputs": [],
   "source": [
    "def exercise_6():\n",
    "    shopping_list = {}\n",
    "    while True:\n",
    "        answer = input(\"Do you want to: Show/Add/Delete or Quit? \")\n",
    "        if answer.lower() == \"show\":\n",
    "            print(shopping_list)\n",
    "        if answer.lower() == \"add\":\n",
    "            item = input(\"What would you like to add?\")\n",
    "            quantity = input(\"And how many will you need? \")\n",
    "            shopping_list[item.title()] = quantity\n",
    "        if answer.lower() == \"delete\":\n",
    "            deletion = input(\"What would you like to delete?\")\n",
    "            if shopping_list.get(deletion.title()):\n",
    "                del shopping_list[deletion.title()]\n",
    "            else:\n",
    "                print(\"I'm sorry, that isn't on your list.\")\n",
    "        if answer.lower()==\"quit\":\n",
    "            print(shopping_list)\n",
    "            break\n",
    "exercise_6()"
   ]
  }
 ],
 "metadata": {
  "kernelspec": {
   "display_name": "Python 3 (ipykernel)",
   "language": "python",
   "name": "python3"
  },
  "language_info": {
   "codemirror_mode": {
    "name": "ipython",
    "version": 3
   },
   "file_extension": ".py",
   "mimetype": "text/x-python",
   "name": "python",
   "nbconvert_exporter": "python",
   "pygments_lexer": "ipython3",
   "version": "3.10.9"
  }
 },
 "nbformat": 4,
 "nbformat_minor": 5
}
